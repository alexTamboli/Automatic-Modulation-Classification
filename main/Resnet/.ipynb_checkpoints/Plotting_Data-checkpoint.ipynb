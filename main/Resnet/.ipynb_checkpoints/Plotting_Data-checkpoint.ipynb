{
 "cells": [
  {
   "cell_type": "code",
   "execution_count": null,
   "metadata": {},
   "outputs": [],
   "source": [
    "import pickle\n",
    "from sklearn.preprocessing import normalize\n",
    "import seaborn as sn\n",
    "import pandas as pd\n",
    "import matplotlib.pyplot as plt"
   ]
  },
  {
   "cell_type": "code",
   "execution_count": null,
   "metadata": {},
   "outputs": [],
   "source": [
    "with open(\"./results_fifth_run_dropout0.3_300epochs/history/cldnn/SNR_2_history\", \"rb\") as fp:\n",
    "    history = pickle.load(fp)\n",
    "\n",
    "plt.plot(history['loss'], label='Training Loss')\n",
    "plt.plot(history['val_loss'], label='Validation Loss')\n",
    "plt.title('Model Loss vs Epochs for SNR = 2 dB')\n",
    "plt.xlabel('Epoch')\n",
    "plt.ylabel('Loss')\n",
    "plt.legend()\n",
    "plt.savefig(\"./Plots/loss_vs_epochs.png\")\n",
    "plt.show()\n"
   ]
  },
  {
   "cell_type": "code",
   "execution_count": null,
   "metadata": {},
   "outputs": [],
   "source": [
    "plt.plot(history['accuracy'], label='Training Accuracy')\n",
    "plt.plot(history['val_accuracy'], label='Validation Accuracy')\n",
    "plt.title('Model performance vs. Epoch for SNR = 2 dB')\n",
    "plt.xlabel('Epoch')\n",
    "plt.ylabel('Accuracy')\n",
    "plt.legend()\n",
    "plt.savefig(\"./Plots/accuracy_vs_epochs.png\")\n",
    "plt.show()"
   ]
  },
  {
   "cell_type": "code",
   "execution_count": null,
   "metadata": {},
   "outputs": [],
   "source": [
    "# Accuracy vs SNR Plotting Code\n",
    "with open(\"./Accuracy resutls\", \"rb\") as fp:\n",
    "    accuracy_results_paper_model = pickle.load(fp)\n",
    "\n",
    "y = []\n",
    "x = []\n",
    "\n",
    "for i in range(len(accuracy_results_paper_model)):\n",
    "    x.append(accuracy_results_paper_model[i][1])\n",
    "x = sorted(x)\n",
    "\n",
    "\n",
    "for i in x:\n",
    "    for j in range(len(accuracy_results_paper_model)):\n",
    "        if accuracy_results_paper_model[j][1]  == i:\n",
    "            y.append(accuracy_results_paper_model[j][0])\n",
    "\n",
    "\n",
    "plt.plot(x, y, marker='d', label='Paper Model')\n",
    "plt.title('Model performance vs. SNR')\n",
    "plt.xlabel('SNR')\n",
    "plt.ylabel('Accuracy')\n",
    "plt.grid()\n",
    "plt.legend()\n",
    "plt.savefig(\"./Plots/accuracy_vs_snr.png\")\n",
    "plt.show()"
   ]
  },
  {
   "cell_type": "code",
   "execution_count": null,
   "metadata": {},
   "outputs": [],
   "source": [
    "with open(\"./final_model_results/confusion_matrix_results\", \"rb\") as fp:\n",
    "    confusion_matrix = pickle.load(fp)\n",
    "\n",
    "# Extracting Confusion Matrix for SNR 18dB (Use different index for different SNR value)\n",
    "# and Normalizing Confusion Matrix Values\n",
    "normalized_confusion_matrix = normalize(confusion_matrix[18][0], norm='l1')\n",
    "\n",
    "label_name = [\"BPSK\", \"AM-DSB\", \"AM-SSB\", \"BPSK\", \"CPFSK\", \"GFSK\", \"PAM4\", \"QAM16\", \"QAM64\", \"QPSK\", \"WBFM\"]\n",
    "df_cm = pd.DataFrame(normalized_confusion_matrix, label_name, label_name)\n",
    "sn.set(font_scale=0.9)\n",
    "sn.heatmap(df_cm, annot=True, annot_kws={\"size\": 8}, cmap=\"Blues\")\n",
    "plt.xticks(ticks=[ 0.5, 1.5, 2.5, 3.5, 4.5, 5.5, 6.5, 7.5, 8.5, 9.5, 10.5], rotation=45)\n",
    "plt.title('Confusion Matrix for SNR = 18 dB')\n",
    "plt.savefig(\"./Plots/confusion_matrix_18dB.png\")\n",
    "plt.show()"
   ]
  }
 ],
 "metadata": {
  "kernelspec": {
   "display_name": "Python 3",
   "language": "python",
   "name": "python3"
  },
  "language_info": {
   "codemirror_mode": {
    "name": "ipython",
    "version": 3
   },
   "file_extension": ".py",
   "mimetype": "text/x-python",
   "name": "python",
   "nbconvert_exporter": "python",
   "pygments_lexer": "ipython3",
   "version": "3.7.3"
  }
 },
 "nbformat": 4,
 "nbformat_minor": 2
}
